{
 "cells": [
  {
   "cell_type": "code",
   "execution_count": 1,
   "metadata": {},
   "outputs": [],
   "source": [
    "import os\n",
    "import nd2\n",
    "import napari\n",
    "import pickle\n",
    "import numpy as np\n",
    "import pandas as pd\n",
    "from skimage.io import imread\n",
    "from skimage.measure import regionprops_table, profile_line\n",
    "from cardiomyocytes_helper_functions import segment_actin_3D,calculate_orientation,find_fibers_orientation_v2,orientations_from_vertices, signal_from_vertices,divide_cell_outside_ring"
   ]
  },
  {
   "cell_type": "code",
   "execution_count": 2,
   "metadata": {},
   "outputs": [],
   "source": [
    "path_dir = r'D:\\data_analysis\\2022_Sahana\\data\\Collagen\\60x images'\n",
    "im_name = r'092622_ring_PDMSAp_10MCol_647-Act_561-Pax_488-Plak_DAPI_001.nd2'\n",
    "path_im = os.path.join(path_dir,im_name)\n",
    "\n",
    "path_vertices = r'D:\\data_analysis\\2022_Sahana\\masks'\n",
    "\n",
    "path_results = r'D:\\data_analysis\\2022_Sahana\\results'\n",
    "path_df = os.path.join(path_results,im_name.replace('.nd2','_df.pkl'))\n",
    "\n",
    "# order of channels\n",
    "    # actin\n",
    "    # paxilin\n",
    "    # plakoglobin\n",
    "    # DAPI\n"
   ]
  },
  {
   "cell_type": "markdown",
   "metadata": {},
   "source": [
    "## Read in the image and annotations"
   ]
  },
  {
   "cell_type": "code",
   "execution_count": 3,
   "metadata": {},
   "outputs": [
    {
     "data": {
      "text/plain": [
       "(27, 4, 512, 512)"
      ]
     },
     "execution_count": 3,
     "metadata": {},
     "output_type": "execute_result"
    }
   ],
   "source": [
    "# read in image\n",
    "im = nd2.imread(path_im)\n",
    "im.shape"
   ]
  },
  {
   "cell_type": "code",
   "execution_count": 4,
   "metadata": {},
   "outputs": [],
   "source": [
    "# read in polygons and masks\n",
    "\n",
    "pkl_path = os.path.join(path_vertices,im_name.replace('.nd2','_polygons.pkl'))\n",
    "\n",
    "with open(pkl_path, 'rb') as f:\n",
    "    vertices_polygons = pickle.load(f)\n",
    "\n",
    "mask_path = os.path.join(path_vertices,im_name.replace('.nd2','_mask.png'))\n",
    "mask = imread(mask_path)"
   ]
  },
  {
   "cell_type": "markdown",
   "metadata": {},
   "source": [
    "## Segment actin"
   ]
  },
  {
   "cell_type": "code",
   "execution_count": 5,
   "metadata": {},
   "outputs": [
    {
     "name": "stdout",
     "output_type": "stream",
     "text": [
      "intensity normalization: min-max normalization with NO absoluteintensity upper bound\n"
     ]
    }
   ],
   "source": [
    "# get actin channel\n",
    "image_actin = im[:,0,:,:]\n",
    "\n",
    "# segment actin volume\n",
    "image_actin_mask = segment_actin_3D(image_actin)\n",
    "\n",
    "# flatten segmented actin\n",
    "image_actin_mask_2D = np.max(image_actin_mask,axis=0)"
   ]
  },
  {
   "cell_type": "markdown",
   "metadata": {},
   "source": [
    "## Calculate general properties of cells"
   ]
  },
  {
   "cell_type": "code",
   "execution_count": 6,
   "metadata": {},
   "outputs": [],
   "source": [
    "# calculate properties of cells\n",
    "\n",
    "properties = ['label','area','centroid','bbox','eccentricity','orientation','intensity_image','image']\n",
    "\n",
    "im_flat_all_channels = np.max(im,axis=0)\n",
    "im_flat_all = np.append(im_flat_all_channels,np.expand_dims(image_actin_mask_2D,axis=0),axis=0)\n",
    "im_flat_all = np.moveaxis(im_flat_all,0,2)\n",
    "\n",
    "cell_measure = regionprops_table(mask, intensity_image = im_flat_all, properties = properties)\n",
    "df = pd.DataFrame(cell_measure)\n",
    "df['image_name'] = im_name"
   ]
  },
  {
   "cell_type": "code",
   "execution_count": 7,
   "metadata": {},
   "outputs": [],
   "source": [
    "# add vertices to the table\n",
    "df['vertices'] = vertices_polygons"
   ]
  },
  {
   "cell_type": "markdown",
   "metadata": {},
   "source": [
    "## Characterize orientation of the cell edge (based on vertices)"
   ]
  },
  {
   "cell_type": "code",
   "execution_count": 8,
   "metadata": {},
   "outputs": [],
   "source": [
    "# characterize the orientation of the edge of the cell\n",
    "\n",
    "df['membrane_orientation'] = None\n",
    "df['membrane_orientation'] = df['membrane_orientation'].astype(object)\n",
    "\n",
    "for i,cell in df.iterrows():\n",
    "\n",
    "    vert = cell.vertices\n",
    "\n",
    "    membrane_orientation = orientations_from_vertices(vert)\n",
    "\n",
    "    df.at[i,'membrane_orientation'] = membrane_orientation\n"
   ]
  },
  {
   "cell_type": "markdown",
   "metadata": {},
   "source": [
    "## Calculate general flow of actin"
   ]
  },
  {
   "cell_type": "code",
   "execution_count": 9,
   "metadata": {},
   "outputs": [],
   "source": [
    "# characterize actin orientation in the cells\n",
    "\n",
    "df['actin_detected'] = None\n",
    "df['actin_detected'] = df['actin_detected'].astype(object)\n",
    "df['actin_angles'] = None\n",
    "df['actin_angles'] = df['actin_angles'].astype(object)\n",
    "\n",
    "for i,cell in df.iterrows():\n",
    "\n",
    "    im_single_cell_actin = cell.intensity_image[:,:,4]\n",
    "\n",
    "    actin,actin_angles = find_fibers_orientation_v2(im_single_cell_actin)\n",
    "    \n",
    "    # calculate mean orientation of the fibers\n",
    "    actin_orientation = np.mean(actin_angles)\n",
    "\n",
    "    # calculate spread of orientations\n",
    "    actin_spread = np.std(actin_angles)\n",
    "\n",
    "    df.at[i,'actin_detected'] = np.array(actin)\n",
    "    df.at[i,'actin_angles'] = np.array(actin_angles)\n",
    "    df.loc[i,'actin_orientation'] = actin_orientation\n",
    "    df.loc[i,'actin_spread'] = actin_spread"
   ]
  },
  {
   "cell_type": "markdown",
   "metadata": {},
   "source": [
    "## Characterize signals at the edge"
   ]
  },
  {
   "cell_type": "code",
   "execution_count": 10,
   "metadata": {},
   "outputs": [],
   "source": [
    "signal_max = np.max(im[:,2,:,:],axis=0)\n",
    "\n",
    "df['plak_signal'] = None\n",
    "df['plak_signal'] = df['plak_signal'].astype(object)\n",
    "\n",
    "for i,cell in df.iterrows():\n",
    "\n",
    "    vert = cell.vertices\n",
    "\n",
    "    signal_line = signal_from_vertices(vert,signal_max)\n",
    "\n",
    "    df.at[i,'plak_signal'] = signal_line"
   ]
  },
  {
   "cell_type": "markdown",
   "metadata": {},
   "source": [
    "## Generate edge regions"
   ]
  },
  {
   "cell_type": "code",
   "execution_count": 12,
   "metadata": {},
   "outputs": [
    {
     "name": "stderr",
     "output_type": "stream",
     "text": [
      "KMeans is known to have a memory leak on Windows with MKL, when there are less chunks than available threads. You can avoid it by setting the environment variable OMP_NUM_THREADS=2.\n",
      "KMeans is known to have a memory leak on Windows with MKL, when there are less chunks than available threads. You can avoid it by setting the environment variable OMP_NUM_THREADS=1.\n",
      "KMeans is known to have a memory leak on Windows with MKL, when there are less chunks than available threads. You can avoid it by setting the environment variable OMP_NUM_THREADS=1.\n",
      "KMeans is known to have a memory leak on Windows with MKL, when there are less chunks than available threads. You can avoid it by setting the environment variable OMP_NUM_THREADS=1.\n",
      "KMeans is known to have a memory leak on Windows with MKL, when there are less chunks than available threads. You can avoid it by setting the environment variable OMP_NUM_THREADS=1.\n",
      "KMeans is known to have a memory leak on Windows with MKL, when there are less chunks than available threads. You can avoid it by setting the environment variable OMP_NUM_THREADS=1.\n"
     ]
    }
   ],
   "source": [
    "ring_thickness = 10\n",
    "segment_number = 25\n",
    "\n",
    "df['outside_ring_regions'] = None\n",
    "\n",
    "for i,cell in df.iterrows():\n",
    "\n",
    "    cell_image = cell.image\n",
    "\n",
    "    points_array = divide_cell_outside_ring(cell_image,ring_thickness,segment_number)\n",
    "\n",
    "    df.at[i,'outside_ring_regions'] = points_array"
   ]
  },
  {
   "cell_type": "markdown",
   "metadata": {},
   "source": [
    "## Visualize image"
   ]
  },
  {
   "cell_type": "code",
   "execution_count": 11,
   "metadata": {},
   "outputs": [
    {
     "name": "stdout",
     "output_type": "stream",
     "text": [
      "Assistant skips harvesting pyclesperanto as it's not installed.\n"
     ]
    },
    {
     "data": {
      "text/plain": [
       "<Labels layer 'mask' at 0x26d9934ce20>"
      ]
     },
     "execution_count": 11,
     "metadata": {},
     "output_type": "execute_result"
    }
   ],
   "source": [
    "viewer = napari.Viewer()\n",
    "viewer.add_image(im[:,0,:,:],blending='additive',colormap='magenta')\n",
    "viewer.add_image(signal_max,blending='additive',colormap='green')\n",
    "viewer.add_image(image_actin_mask,blending='additive',colormap='green',visible=False)\n",
    "viewer.add_image(image_actin_mask_2D,blending='additive',colormap='gray')\n",
    "viewer.add_labels(mask,blending='additive')"
   ]
  },
  {
   "cell_type": "markdown",
   "metadata": {},
   "source": [
    "## Show data frame"
   ]
  },
  {
   "cell_type": "code",
   "execution_count": 13,
   "metadata": {},
   "outputs": [
    {
     "data": {
      "text/html": [
       "<div>\n",
       "<style scoped>\n",
       "    .dataframe tbody tr th:only-of-type {\n",
       "        vertical-align: middle;\n",
       "    }\n",
       "\n",
       "    .dataframe tbody tr th {\n",
       "        vertical-align: top;\n",
       "    }\n",
       "\n",
       "    .dataframe thead th {\n",
       "        text-align: right;\n",
       "    }\n",
       "</style>\n",
       "<table border=\"1\" class=\"dataframe\">\n",
       "  <thead>\n",
       "    <tr style=\"text-align: right;\">\n",
       "      <th></th>\n",
       "      <th>label</th>\n",
       "      <th>area</th>\n",
       "      <th>centroid-0</th>\n",
       "      <th>centroid-1</th>\n",
       "      <th>bbox-0</th>\n",
       "      <th>bbox-1</th>\n",
       "      <th>bbox-2</th>\n",
       "      <th>bbox-3</th>\n",
       "      <th>eccentricity</th>\n",
       "      <th>orientation</th>\n",
       "      <th>...</th>\n",
       "      <th>image</th>\n",
       "      <th>image_name</th>\n",
       "      <th>vertices</th>\n",
       "      <th>membrane_orientation</th>\n",
       "      <th>actin_detected</th>\n",
       "      <th>actin_angles</th>\n",
       "      <th>actin_orientation</th>\n",
       "      <th>actin_spread</th>\n",
       "      <th>plak_signal</th>\n",
       "      <th>outside_ring_regions</th>\n",
       "    </tr>\n",
       "  </thead>\n",
       "  <tbody>\n",
       "    <tr>\n",
       "      <th>0</th>\n",
       "      <td>1</td>\n",
       "      <td>12222</td>\n",
       "      <td>417.672640</td>\n",
       "      <td>305.914662</td>\n",
       "      <td>356</td>\n",
       "      <td>193</td>\n",
       "      <td>492</td>\n",
       "      <td>425</td>\n",
       "      <td>0.950820</td>\n",
       "      <td>-1.178678</td>\n",
       "      <td>...</td>\n",
       "      <td>[[False, False, False, False, False, False, Fa...</td>\n",
       "      <td>092622_ring_PDMSAp_10MCol_647-Act_561-Pax_488-...</td>\n",
       "      <td>[[413.5046444321612, 203.5532564629244], [461....</td>\n",
       "      <td>[-0.2317168411904511, 0.7044940642422182, 1.41...</td>\n",
       "      <td>[[[180, 73], [153, 70]], [[118, 26], [138, 11]...</td>\n",
       "      <td>[1.4601391056210011, -0.9272952180016122, -0.6...</td>\n",
       "      <td>-1.315784</td>\n",
       "      <td>1.097547</td>\n",
       "      <td>[362.0, 341.0, 337.0, 401.0, 554.0, 889.0, 151...</td>\n",
       "      <td>[[0, 183, 15], [0, 184, 15], [0, 185, 15], [0,...</td>\n",
       "    </tr>\n",
       "    <tr>\n",
       "      <th>1</th>\n",
       "      <td>2</td>\n",
       "      <td>5864</td>\n",
       "      <td>416.320259</td>\n",
       "      <td>287.201739</td>\n",
       "      <td>371</td>\n",
       "      <td>240</td>\n",
       "      <td>468</td>\n",
       "      <td>337</td>\n",
       "      <td>0.635507</td>\n",
       "      <td>0.802674</td>\n",
       "      <td>...</td>\n",
       "      <td>[[False, False, False, False, False, False, Fa...</td>\n",
       "      <td>092622_ring_PDMSAp_10MCol_647-Act_561-Pax_488-...</td>\n",
       "      <td>[[391.8601720840474, 239.80774764601492], [410...</td>\n",
       "      <td>[0.14601225771127702, 0.5266272714337505, 0.61...</td>\n",
       "      <td>[[[62, 70], [80, 58]], [[32, 51], [49, 44]], [...</td>\n",
       "      <td>[-0.982793723247329, -1.1801892830972098, -1.0...</td>\n",
       "      <td>-1.006116</td>\n",
       "      <td>0.122593</td>\n",
       "      <td>[1742.0, 1862.0, 1903.0, 1424.0, 830.0, 528.0,...</td>\n",
       "      <td>[[0, 32, 21], [0, 33, 21], [0, 34, 21], [1, 31...</td>\n",
       "    </tr>\n",
       "    <tr>\n",
       "      <th>2</th>\n",
       "      <td>3</td>\n",
       "      <td>3475</td>\n",
       "      <td>304.857842</td>\n",
       "      <td>29.730360</td>\n",
       "      <td>243</td>\n",
       "      <td>9</td>\n",
       "      <td>360</td>\n",
       "      <td>57</td>\n",
       "      <td>0.948991</td>\n",
       "      <td>0.127392</td>\n",
       "      <td>...</td>\n",
       "      <td>[[False, False, False, False, False, False, Fa...</td>\n",
       "      <td>092622_ring_PDMSAp_10MCol_647-Act_561-Pax_488-...</td>\n",
       "      <td>[[251.71221363001072, 8.753005329900446], [279...</td>\n",
       "      <td>[0.17467219900823938, -0.057628427477474986, 0...</td>\n",
       "      <td>[[[13, 22], [10, 7]], [[44, 93], [39, 71]], [[...</td>\n",
       "      <td>[0.19739555984988089, 0.22347660114063306, 0.2...</td>\n",
       "      <td>0.260687</td>\n",
       "      <td>0.084831</td>\n",
       "      <td>[388.0, 399.0, 390.0, 420.0, 427.0, 390.0, 354...</td>\n",
       "      <td>[[0, 18, 7], [1, 16, 7], [1, 17, 7], [1, 18, 7...</td>\n",
       "    </tr>\n",
       "    <tr>\n",
       "      <th>3</th>\n",
       "      <td>4</td>\n",
       "      <td>1829</td>\n",
       "      <td>378.172772</td>\n",
       "      <td>55.621651</td>\n",
       "      <td>355</td>\n",
       "      <td>16</td>\n",
       "      <td>403</td>\n",
       "      <td>97</td>\n",
       "      <td>0.957310</td>\n",
       "      <td>-1.224663</td>\n",
       "      <td>...</td>\n",
       "      <td>[[False, False, False, False, False, False, Fa...</td>\n",
       "      <td>092622_ring_PDMSAp_10MCol_647-Act_561-Pax_488-...</td>\n",
       "      <td>[[379.95571229258485, 15.246347034334576], [40...</td>\n",
       "      <td>[0.2782996590051119, -1.2231894670389956, 0.26...</td>\n",
       "      <td>[[[59, 27], [52, 8]], [[30, 35], [24, 19]], [[...</td>\n",
       "      <td>[0.3529903878269105, 0.3587706702705722, 0.339...</td>\n",
       "      <td>0.245671</td>\n",
       "      <td>0.115946</td>\n",
       "      <td>[257.0, 245.0, 256.0, 273.0, 265.0, 242.0, 258...</td>\n",
       "      <td>[[0, 72, 0], [0, 73, 0], [0, 74, 0], [1, 69, 0...</td>\n",
       "    </tr>\n",
       "    <tr>\n",
       "      <th>4</th>\n",
       "      <td>5</td>\n",
       "      <td>5126</td>\n",
       "      <td>191.244635</td>\n",
       "      <td>186.167577</td>\n",
       "      <td>135</td>\n",
       "      <td>148</td>\n",
       "      <td>237</td>\n",
       "      <td>234</td>\n",
       "      <td>0.875291</td>\n",
       "      <td>0.608647</td>\n",
       "      <td>...</td>\n",
       "      <td>[[False, False, False, False, False, False, Fa...</td>\n",
       "      <td>092622_ring_PDMSAp_10MCol_647-Act_561-Pax_488-...</td>\n",
       "      <td>[[157.5587589157158, 149.9831874013428], [191....</td>\n",
       "      <td>[0.11065722117389543, 0.4423742229767451, 0.99...</td>\n",
       "      <td>[[[27, 53], [23, 38]], [[52, 57], [36, 27]], [...</td>\n",
       "      <td>[0.260602391747341, 0.48995732625372845, 0.479...</td>\n",
       "      <td>0.417871</td>\n",
       "      <td>0.160449</td>\n",
       "      <td>[241.0, 231.0, 237.0, 257.0, 290.0, 313.0, 297...</td>\n",
       "      <td>[[0, 7, 0], [0, 8, 0], [0, 9, 0], [0, 10, 0], ...</td>\n",
       "    </tr>\n",
       "    <tr>\n",
       "      <th>5</th>\n",
       "      <td>6</td>\n",
       "      <td>4440</td>\n",
       "      <td>49.332432</td>\n",
       "      <td>250.242793</td>\n",
       "      <td>12</td>\n",
       "      <td>198</td>\n",
       "      <td>87</td>\n",
       "      <td>302</td>\n",
       "      <td>0.799329</td>\n",
       "      <td>1.142257</td>\n",
       "      <td>...</td>\n",
       "      <td>[[False, False, False, False, False, False, Fa...</td>\n",
       "      <td>092622_ring_PDMSAp_10MCol_647-Act_561-Pax_488-...</td>\n",
       "      <td>[[10.917458757245019, 228.4443996632552], [24....</td>\n",
       "      <td>[-0.7437555842988597, -0.7313966630214805, 0.9...</td>\n",
       "      <td>[[[75, 44], [53, 31]], [[87, 44], [52, 16]], [...</td>\n",
       "      <td>[1.037088135155635, 0.8960553845713441, 1.0851...</td>\n",
       "      <td>1.065597</td>\n",
       "      <td>0.099889</td>\n",
       "      <td>[259.0, 302.0, 283.0, 223.0, 215.0, 231.0, 242...</td>\n",
       "      <td>[[0, 30, 8], [0, 31, 8], [0, 32, 8], [0, 33, 8...</td>\n",
       "    </tr>\n",
       "  </tbody>\n",
       "</table>\n",
       "<p>6 rows × 21 columns</p>\n",
       "</div>"
      ],
      "text/plain": [
       "   label   area  centroid-0  centroid-1  bbox-0  bbox-1  bbox-2  bbox-3  \\\n",
       "0      1  12222  417.672640  305.914662     356     193     492     425   \n",
       "1      2   5864  416.320259  287.201739     371     240     468     337   \n",
       "2      3   3475  304.857842   29.730360     243       9     360      57   \n",
       "3      4   1829  378.172772   55.621651     355      16     403      97   \n",
       "4      5   5126  191.244635  186.167577     135     148     237     234   \n",
       "5      6   4440   49.332432  250.242793      12     198      87     302   \n",
       "\n",
       "   eccentricity  orientation  ...  \\\n",
       "0      0.950820    -1.178678  ...   \n",
       "1      0.635507     0.802674  ...   \n",
       "2      0.948991     0.127392  ...   \n",
       "3      0.957310    -1.224663  ...   \n",
       "4      0.875291     0.608647  ...   \n",
       "5      0.799329     1.142257  ...   \n",
       "\n",
       "                                               image  \\\n",
       "0  [[False, False, False, False, False, False, Fa...   \n",
       "1  [[False, False, False, False, False, False, Fa...   \n",
       "2  [[False, False, False, False, False, False, Fa...   \n",
       "3  [[False, False, False, False, False, False, Fa...   \n",
       "4  [[False, False, False, False, False, False, Fa...   \n",
       "5  [[False, False, False, False, False, False, Fa...   \n",
       "\n",
       "                                          image_name  \\\n",
       "0  092622_ring_PDMSAp_10MCol_647-Act_561-Pax_488-...   \n",
       "1  092622_ring_PDMSAp_10MCol_647-Act_561-Pax_488-...   \n",
       "2  092622_ring_PDMSAp_10MCol_647-Act_561-Pax_488-...   \n",
       "3  092622_ring_PDMSAp_10MCol_647-Act_561-Pax_488-...   \n",
       "4  092622_ring_PDMSAp_10MCol_647-Act_561-Pax_488-...   \n",
       "5  092622_ring_PDMSAp_10MCol_647-Act_561-Pax_488-...   \n",
       "\n",
       "                                            vertices  \\\n",
       "0  [[413.5046444321612, 203.5532564629244], [461....   \n",
       "1  [[391.8601720840474, 239.80774764601492], [410...   \n",
       "2  [[251.71221363001072, 8.753005329900446], [279...   \n",
       "3  [[379.95571229258485, 15.246347034334576], [40...   \n",
       "4  [[157.5587589157158, 149.9831874013428], [191....   \n",
       "5  [[10.917458757245019, 228.4443996632552], [24....   \n",
       "\n",
       "                                membrane_orientation  \\\n",
       "0  [-0.2317168411904511, 0.7044940642422182, 1.41...   \n",
       "1  [0.14601225771127702, 0.5266272714337505, 0.61...   \n",
       "2  [0.17467219900823938, -0.057628427477474986, 0...   \n",
       "3  [0.2782996590051119, -1.2231894670389956, 0.26...   \n",
       "4  [0.11065722117389543, 0.4423742229767451, 0.99...   \n",
       "5  [-0.7437555842988597, -0.7313966630214805, 0.9...   \n",
       "\n",
       "                                      actin_detected  \\\n",
       "0  [[[180, 73], [153, 70]], [[118, 26], [138, 11]...   \n",
       "1  [[[62, 70], [80, 58]], [[32, 51], [49, 44]], [...   \n",
       "2  [[[13, 22], [10, 7]], [[44, 93], [39, 71]], [[...   \n",
       "3  [[[59, 27], [52, 8]], [[30, 35], [24, 19]], [[...   \n",
       "4  [[[27, 53], [23, 38]], [[52, 57], [36, 27]], [...   \n",
       "5  [[[75, 44], [53, 31]], [[87, 44], [52, 16]], [...   \n",
       "\n",
       "                                        actin_angles actin_orientation  \\\n",
       "0  [1.4601391056210011, -0.9272952180016122, -0.6...         -1.315784   \n",
       "1  [-0.982793723247329, -1.1801892830972098, -1.0...         -1.006116   \n",
       "2  [0.19739555984988089, 0.22347660114063306, 0.2...          0.260687   \n",
       "3  [0.3529903878269105, 0.3587706702705722, 0.339...          0.245671   \n",
       "4  [0.260602391747341, 0.48995732625372845, 0.479...          0.417871   \n",
       "5  [1.037088135155635, 0.8960553845713441, 1.0851...          1.065597   \n",
       "\n",
       "   actin_spread                                        plak_signal  \\\n",
       "0      1.097547  [362.0, 341.0, 337.0, 401.0, 554.0, 889.0, 151...   \n",
       "1      0.122593  [1742.0, 1862.0, 1903.0, 1424.0, 830.0, 528.0,...   \n",
       "2      0.084831  [388.0, 399.0, 390.0, 420.0, 427.0, 390.0, 354...   \n",
       "3      0.115946  [257.0, 245.0, 256.0, 273.0, 265.0, 242.0, 258...   \n",
       "4      0.160449  [241.0, 231.0, 237.0, 257.0, 290.0, 313.0, 297...   \n",
       "5      0.099889  [259.0, 302.0, 283.0, 223.0, 215.0, 231.0, 242...   \n",
       "\n",
       "                                outside_ring_regions  \n",
       "0  [[0, 183, 15], [0, 184, 15], [0, 185, 15], [0,...  \n",
       "1  [[0, 32, 21], [0, 33, 21], [0, 34, 21], [1, 31...  \n",
       "2  [[0, 18, 7], [1, 16, 7], [1, 17, 7], [1, 18, 7...  \n",
       "3  [[0, 72, 0], [0, 73, 0], [0, 74, 0], [1, 69, 0...  \n",
       "4  [[0, 7, 0], [0, 8, 0], [0, 9, 0], [0, 10, 0], ...  \n",
       "5  [[0, 30, 8], [0, 31, 8], [0, 32, 8], [0, 33, 8...  \n",
       "\n",
       "[6 rows x 21 columns]"
      ]
     },
     "execution_count": 13,
     "metadata": {},
     "output_type": "execute_result"
    }
   ],
   "source": [
    "df"
   ]
  },
  {
   "cell_type": "markdown",
   "metadata": {},
   "source": [
    "## Save data frame"
   ]
  },
  {
   "cell_type": "code",
   "execution_count": 14,
   "metadata": {},
   "outputs": [],
   "source": [
    "df.to_pickle(path_df)"
   ]
  },
  {
   "cell_type": "code",
   "execution_count": null,
   "metadata": {},
   "outputs": [],
   "source": []
  }
 ],
 "metadata": {
  "kernelspec": {
   "display_name": "Python 3.10.0",
   "language": "python",
   "name": "python3"
  },
  "language_info": {
   "codemirror_mode": {
    "name": "ipython",
    "version": 3
   },
   "file_extension": ".py",
   "mimetype": "text/x-python",
   "name": "python",
   "nbconvert_exporter": "python",
   "pygments_lexer": "ipython3",
   "version": "3.10.0"
  },
  "orig_nbformat": 4,
  "vscode": {
   "interpreter": {
    "hash": "fd30303737bfc8dffb380a75f3977577a1d76c6d2a2dd8c73089a9748e764500"
   }
  }
 },
 "nbformat": 4,
 "nbformat_minor": 2
}
