{
 "cells": [
  {
   "cell_type": "code",
   "execution_count": 1,
   "metadata": {},
   "outputs": [],
   "source": [
    "import os\n",
    "import nd2\n",
    "import napari\n",
    "import pickle\n",
    "import numpy as np\n",
    "import pandas as pd\n",
    "from skimage.io import imread\n",
    "from skimage.measure import regionprops_table, profile_line\n",
    "from cardiomyocytes_helper_functions import segment_actin_3D,calculate_orientation,find_fibers_orientation_v2,orientations_from_vertices, signal_from_vertices"
   ]
  },
  {
   "cell_type": "code",
   "execution_count": null,
   "metadata": {},
   "outputs": [],
   "source": [
    "test"
   ]
  },
  {
   "cell_type": "code",
   "execution_count": 2,
   "metadata": {},
   "outputs": [],
   "source": [
    "path_dir = r'D:\\data_analysis\\2022_Sahana\\data\\Collagen\\60x images'\n",
    "path_vertices = r'D:\\data_analysis\\2022_Sahana\\masks'\n",
    "\n",
    "path_results = r'D:\\data_analysis\\2022_Sahana\\results'\n",
    "path_df = os.path.join(path_results,im_name.replace('.nd2','_df.pkl'))\n",
    "\n",
    "# order of channels\n",
    "    # actin\n",
    "    # paxilin\n",
    "    # plakoglobin\n",
    "    # DAPI\n"
   ]
  },
  {
   "cell_type": "markdown",
   "metadata": {},
   "source": [
    "## Loop over the images"
   ]
  },
  {
   "cell_type": "code",
   "execution_count": 4,
   "metadata": {},
   "outputs": [],
   "source": [
    "file_list = os.listdir(path_dir)"
   ]
  },
  {
   "cell_type": "code",
   "execution_count": null,
   "metadata": {},
   "outputs": [],
   "source": [
    "df_list = []\n",
    "\n",
    "for im_name in file_list:\n",
    "\n",
    "    path_im = os.path.join(path_dir,im_name)\n",
    "\n",
    "    # read in image\n",
    "\n",
    "    # read in polygons and masks\n",
    "\n",
    "    # calculate df\n",
    "    df = \n",
    "\n",
    "    # save individual df\n",
    "    path_df = os.path.join(path_results,im_name.replace('.nd2','_df.pkl'))\n",
    "    df.to_pickle(path_df)\n",
    "\n",
    "    # collect df\n",
    "    df_list.append(df)"
   ]
  },
  {
   "cell_type": "code",
   "execution_count": null,
   "metadata": {},
   "outputs": [],
   "source": [
    "# concatenate all data frames\n",
    "df_all = pd.concat(df_list)\n",
    "\n",
    "# save concatenated data frames together\n",
    "df_all.to_pickle(os.path.join(path_results,'df_all.pkl'))"
   ]
  }
 ],
 "metadata": {
  "kernelspec": {
   "display_name": "Python 3.9.13 ('napari-env')",
   "language": "python",
   "name": "python3"
  },
  "language_info": {
   "codemirror_mode": {
    "name": "ipython",
    "version": 3
   },
   "file_extension": ".py",
   "mimetype": "text/x-python",
   "name": "python",
   "nbconvert_exporter": "python",
   "pygments_lexer": "ipython3",
   "version": "3.9.13 | packaged by conda-forge | (main, May 27 2022, 16:51:29) [MSC v.1929 64 bit (AMD64)]"
  },
  "orig_nbformat": 4,
  "vscode": {
   "interpreter": {
    "hash": "850c40123f56a6a81eac0cf1a4fa0b8eb9afb778da43d1733bc64827a43fb21d"
   }
  }
 },
 "nbformat": 4,
 "nbformat_minor": 2
}
