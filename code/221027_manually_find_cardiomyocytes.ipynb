{
 "cells": [
  {
   "cell_type": "code",
   "execution_count": 1,
   "metadata": {},
   "outputs": [],
   "source": [
    "import os\n",
    "import pickle\n",
    "import napari\n",
    "import nd2\n",
    "import numpy as np\n",
    "from skimage.draw import polygon\n",
    "from skimage.io import imsave\n",
    "\n",
    "from cardiomyocytes_helper_functions import fill_gaps_between_cells "
   ]
  },
  {
   "cell_type": "code",
   "execution_count": 2,
   "metadata": {},
   "outputs": [],
   "source": [
    "path_dir = r'D:\\data_analysis\\2022_Sahana\\data\\Collagen\\60x images'\n",
    "im_name = r'092622_ring_PDMSAp_10MCol_647-Act_561-Pax_488-Plak_DAPI_001.nd2'\n",
    "path_im = os.path.join(path_dir,im_name)\n",
    "\n",
    "path_save = r'D:\\data_analysis\\2022_Sahana\\masks'"
   ]
  },
  {
   "cell_type": "code",
   "execution_count": 3,
   "metadata": {},
   "outputs": [],
   "source": [
    "im = nd2.imread(path_im)"
   ]
  },
  {
   "cell_type": "code",
   "execution_count": 4,
   "metadata": {},
   "outputs": [
    {
     "data": {
      "text/plain": [
       "(27, 4, 512, 512)"
      ]
     },
     "execution_count": 4,
     "metadata": {},
     "output_type": "execute_result"
    }
   ],
   "source": [
    "im.shape"
   ]
  },
  {
   "cell_type": "code",
   "execution_count": 5,
   "metadata": {},
   "outputs": [],
   "source": [
    "# create a maximum projection\n",
    "\n",
    "actin_max = np.max(im[:,0,:,:],axis=0)"
   ]
  },
  {
   "cell_type": "code",
   "execution_count": 6,
   "metadata": {},
   "outputs": [
    {
     "name": "stdout",
     "output_type": "stream",
     "text": [
      "Assistant skips harvesting pyclesperanto as it's not installed.\n"
     ]
    },
    {
     "data": {
      "text/plain": [
       "<Image layer 'actin_max' at 0x1a104493dc0>"
      ]
     },
     "execution_count": 6,
     "metadata": {},
     "output_type": "execute_result"
    }
   ],
   "source": [
    "viewer = napari.Viewer()\n",
    "viewer.add_image(im[:,0,:,:],colormap='magenta',blending='additive')\n",
    "viewer.add_image(im[:,1,:,:],colormap='red',blending='additive')\n",
    "viewer.add_image(im[:,2,:,:],colormap='green',blending='additive')\n",
    "viewer.add_image(im[:,3,:,:],colormap='blue',blending='additive')\n",
    "viewer.add_image(actin_max,blending='additive')"
   ]
  },
  {
   "cell_type": "markdown",
   "metadata": {},
   "source": [
    "## Manually draw shapes"
   ]
  },
  {
   "cell_type": "code",
   "execution_count": 7,
   "metadata": {},
   "outputs": [
    {
     "name": "stderr",
     "output_type": "stream",
     "text": [
      "c:\\Users\\lab\\.conda\\envs\\napari-env\\lib\\site-packages\\numpy\\core\\numeric.py:2463: FutureWarning: elementwise comparison failed; returning scalar instead, but in the future will perform elementwise comparison\n",
      "  return bool(asarray(a1 == a2).all())\n"
     ]
    }
   ],
   "source": [
    "# Manually define cells \n",
    "\n",
    "pkl_path = os.path.join(path_save,im_name.replace('.nd2','_polygons.pkl'))\n",
    "\n",
    "if os.path.exists(pkl_path):\n",
    "\n",
    "    # open existing mask\n",
    "    with open(pkl_path, 'rb') as f:\n",
    "        vertices_polygons = pickle.load(f)\n",
    "\n",
    "    viewer.add_shapes(vertices_polygons, shape_type='polygon',name='Shapes')\n",
    "\n",
    "else:\n",
    "    viewer.add_shapes()\n"
   ]
  },
  {
   "cell_type": "markdown",
   "metadata": {},
   "source": [
    "Use the set of tools available in Napari to draw the contours of the cells. Do not include cells that are not complete."
   ]
  },
  {
   "cell_type": "markdown",
   "metadata": {},
   "source": [
    "## Correction of shapes"
   ]
  },
  {
   "cell_type": "code",
   "execution_count": 8,
   "metadata": {},
   "outputs": [
    {
     "data": {
      "text/plain": [
       "4"
      ]
     },
     "execution_count": 8,
     "metadata": {},
     "output_type": "execute_result"
    }
   ],
   "source": [
    "# get coordinates of vertices\n",
    "vertices_polygons = viewer.layers['Shapes'].data\n",
    "len(vertices_polygons)"
   ]
  },
  {
   "cell_type": "code",
   "execution_count": 9,
   "metadata": {},
   "outputs": [],
   "source": [
    "# create a mask out of vertices\n",
    "mask = np.zeros(im.shape[2:]).astype('uint8')\n",
    "\n",
    "for i,poly in enumerate(vertices_polygons):\n",
    "\n",
    "    # if drawing was in 3D\n",
    "    if len(poly.shape) > 2:\n",
    "        mask_coord = polygon(vertices_polygons[i][:,1],vertices_polygons[i][:,2],shape=im.shape[2:])\n",
    "    else:\n",
    "        mask_coord = polygon(vertices_polygons[i][:,0],vertices_polygons[i][:,1],shape=im.shape[2:])\n",
    "\n",
    "    mask[mask_coord] = mask[mask_coord] + (i+1)\n",
    "\n",
    "    # mark areas of the overlap\n",
    "    mask[mask > (i+1)] = 255\n",
    "\n",
    "mask_shapes_overlap = mask\n",
    "\n",
    "# shapes without overlapping regions\n",
    "mask_shapes = mask_shapes_overlap.copy()\n",
    "mask_shapes[mask_shapes == 255] = 0"
   ]
  },
  {
   "cell_type": "code",
   "execution_count": 14,
   "metadata": {},
   "outputs": [
    {
     "data": {
      "text/plain": [
       "<Labels layer 'Masks' at 0x1a109fa5e20>"
      ]
     },
     "execution_count": 14,
     "metadata": {},
     "output_type": "execute_result"
    }
   ],
   "source": [
    "viewer.add_labels(mask_shapes_overlap,name = 'Masks')"
   ]
  },
  {
   "cell_type": "code",
   "execution_count": 11,
   "metadata": {},
   "outputs": [],
   "source": [
    "im_divided = fill_gaps_between_cells(mask_shapes_overlap)"
   ]
  },
  {
   "cell_type": "code",
   "execution_count": 12,
   "metadata": {},
   "outputs": [
    {
     "data": {
      "text/plain": [
       "<Labels layer 'masks_corrected' at 0x1a10723abb0>"
      ]
     },
     "execution_count": 12,
     "metadata": {},
     "output_type": "execute_result"
    }
   ],
   "source": [
    "masks_corrected = mask_shapes + im_divided\n",
    "viewer.add_labels(masks_corrected)"
   ]
  },
  {
   "cell_type": "code",
   "execution_count": null,
   "metadata": {},
   "outputs": [],
   "source": []
  },
  {
   "cell_type": "markdown",
   "metadata": {},
   "source": [
    "## Save shapes"
   ]
  },
  {
   "cell_type": "code",
   "execution_count": 11,
   "metadata": {},
   "outputs": [
    {
     "name": "stderr",
     "output_type": "stream",
     "text": [
      "C:\\Users\\lab\\AppData\\Local\\Temp\\ipykernel_27976\\2345319060.py:3: UserWarning: D:\\data_analysis\\2022_Sahana\\masks\\092622_ring_PDMSAp_10MCol_647-Act_561-Pax_488-Plak_DAPI_001_mask.png is a low contrast image\n",
      "  imsave(mask_path,mask)\n"
     ]
    }
   ],
   "source": [
    "# saving\n",
    "mask_path = os.path.join(path_save,im_name.replace('.nd2','_mask.png'))\n",
    "imsave(mask_path,mask)\n",
    "\n",
    "\n",
    "pkl_path = os.path.join(path_save,im_name.replace('.nd2','_polygons.pkl'))\n",
    "with open(pkl_path, 'wb') as f:\n",
    "    pickle.dump(vertices_polygons, f)"
   ]
  },
  {
   "cell_type": "code",
   "execution_count": null,
   "metadata": {},
   "outputs": [],
   "source": []
  }
 ],
 "metadata": {
  "kernelspec": {
   "display_name": "Python 3.10.0",
   "language": "python",
   "name": "python3"
  },
  "language_info": {
   "codemirror_mode": {
    "name": "ipython",
    "version": 3
   },
   "file_extension": ".py",
   "mimetype": "text/x-python",
   "name": "python",
   "nbconvert_exporter": "python",
   "pygments_lexer": "ipython3",
   "version": "3.10.0"
  },
  "vscode": {
   "interpreter": {
    "hash": "fd30303737bfc8dffb380a75f3977577a1d76c6d2a2dd8c73089a9748e764500"
   }
  }
 },
 "nbformat": 4,
 "nbformat_minor": 2
}
