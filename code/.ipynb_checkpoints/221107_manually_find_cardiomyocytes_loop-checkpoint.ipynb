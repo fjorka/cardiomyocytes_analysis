{
 "cells": [
  {
   "cell_type": "code",
   "execution_count": 1,
   "metadata": {},
   "outputs": [
    {
     "ename": "ModuleNotFoundError",
     "evalue": "No module named 'aicssegmentation'",
     "output_type": "error",
     "traceback": [
      "\u001b[0;31m---------------------------------------------------------------------------\u001b[0m",
      "\u001b[0;31mModuleNotFoundError\u001b[0m                       Traceback (most recent call last)",
      "\u001b[0;32m/var/folders/97/vpl69lr53td8ksnqy8qx7l6m0000gn/T/ipykernel_20272/3415330092.py\u001b[0m in \u001b[0;36m<module>\u001b[0;34m\u001b[0m\n\u001b[1;32m      7\u001b[0m \u001b[0;32mfrom\u001b[0m \u001b[0mmagicgui\u001b[0m \u001b[0;32mimport\u001b[0m \u001b[0mmagicgui\u001b[0m\u001b[0;34m\u001b[0m\u001b[0;34m\u001b[0m\u001b[0m\n\u001b[1;32m      8\u001b[0m \u001b[0;32mfrom\u001b[0m \u001b[0mskimage\u001b[0m\u001b[0;34m.\u001b[0m\u001b[0mio\u001b[0m \u001b[0;32mimport\u001b[0m \u001b[0mimsave\u001b[0m\u001b[0;34m\u001b[0m\u001b[0;34m\u001b[0m\u001b[0m\n\u001b[0;32m----> 9\u001b[0;31m \u001b[0;32mfrom\u001b[0m \u001b[0mcardiomyocytes_helper_functions\u001b[0m \u001b[0;32mimport\u001b[0m \u001b[0mcreate_mask_from_shapes\u001b[0m\u001b[0;34m\u001b[0m\u001b[0;34m\u001b[0m\u001b[0m\n\u001b[0m",
      "\u001b[0;32m~/Documents/Sahana_Kasia_CBI_image_analysis/2022_Sahana/code/cardiomyocytes_helper_functions.py\u001b[0m in \u001b[0;36m<module>\u001b[0;34m\u001b[0m\n\u001b[1;32m      2\u001b[0m \u001b[0;32mfrom\u001b[0m \u001b[0mskimage\u001b[0m\u001b[0;34m.\u001b[0m\u001b[0mtransform\u001b[0m \u001b[0;32mimport\u001b[0m \u001b[0mhough_line\u001b[0m\u001b[0;34m,\u001b[0m \u001b[0mhough_line_peaks\u001b[0m\u001b[0;34m\u001b[0m\u001b[0;34m\u001b[0m\u001b[0m\n\u001b[1;32m      3\u001b[0m \u001b[0;34m\u001b[0m\u001b[0m\n\u001b[0;32m----> 4\u001b[0;31m \u001b[0;32mfrom\u001b[0m \u001b[0maicssegmentation\u001b[0m\u001b[0;34m.\u001b[0m\u001b[0mcore\u001b[0m\u001b[0;34m.\u001b[0m\u001b[0mvessel\u001b[0m \u001b[0;32mimport\u001b[0m \u001b[0mfilament_3d_wrapper\u001b[0m\u001b[0;34m\u001b[0m\u001b[0;34m\u001b[0m\u001b[0m\n\u001b[0m\u001b[1;32m      5\u001b[0m \u001b[0;32mfrom\u001b[0m \u001b[0maicssegmentation\u001b[0m\u001b[0;34m.\u001b[0m\u001b[0mcore\u001b[0m\u001b[0;34m.\u001b[0m\u001b[0mpre_processing_utils\u001b[0m \u001b[0;32mimport\u001b[0m \u001b[0mintensity_normalization\u001b[0m\u001b[0;34m,\u001b[0m \u001b[0medge_preserving_smoothing_3d\u001b[0m\u001b[0;34m,\u001b[0m \u001b[0mimage_smoothing_gaussian_3d\u001b[0m\u001b[0;34m\u001b[0m\u001b[0;34m\u001b[0m\u001b[0m\n\u001b[1;32m      6\u001b[0m \u001b[0;32mfrom\u001b[0m \u001b[0mskimage\u001b[0m\u001b[0;34m.\u001b[0m\u001b[0mmorphology\u001b[0m \u001b[0;32mimport\u001b[0m \u001b[0mremove_small_objects\u001b[0m\u001b[0;34m\u001b[0m\u001b[0;34m\u001b[0m\u001b[0m\n",
      "\u001b[0;31mModuleNotFoundError\u001b[0m: No module named 'aicssegmentation'"
     ]
    }
   ],
   "source": [
    "import os\n",
    "import pickle\n",
    "import nd2\n",
    "import numpy as np\n",
    "import napari\n",
    "from napari import Viewer\n",
    "from magicgui import magicgui\n",
    "from skimage.io import imsave\n",
    "from cardiomyocytes_helper_functions import create_mask_from_shapes"
   ]
  },
  {
   "cell_type": "code",
   "execution_count": 9,
   "metadata": {},
   "outputs": [],
   "source": [
    "def save_shapes_and_mask(viewer: Viewer):\n",
    "\n",
    "    global path_save\n",
    "    global im_name\n",
    "    global im\n",
    "    \n",
    "    # get coordinates of vertices\n",
    "    vertices_polygons = viewer.layers['Shapes'].data\n",
    "\n",
    "    \n",
    "    # save vertices\n",
    "    pkl_path = os.path.join(path_save,im_name.replace('.nd2','_polygons.pkl'))\n",
    "    with open(pkl_path, 'wb') as f:\n",
    "        pickle.dump(vertices_polygons, f)\n",
    "\n",
    "    \n",
    "    # create mask from vertices\n",
    "    mask = create_mask_from_shapes(vertices_polygons, im.shape[2:])\n",
    "\n",
    "    # display mask\n",
    "    viewer.add_labels(mask)\n",
    "    \n",
    "    # save mask\n",
    "    mask_path = os.path.join(path_save,im_name.replace('.nd2','_mask.png'))\n",
    "    imsave(mask_path,mask)\n",
    "\n",
    "    \n",
    "    viewer.status = 'Data has been saved.'"
   ]
  },
  {
   "cell_type": "code",
   "execution_count": 4,
   "metadata": {},
   "outputs": [],
   "source": [
    "path_dir = r'/Users/sahanabalasubramanian/Documents/Sahana_Kasia_CBI_image_analysis'\n",
    "\n",
    "path_save = r'/Users/sahanabalasubramanian/Documents/Sahana_Kasia_CBI_image_analysis/Results'"
   ]
  },
  {
   "cell_type": "code",
   "execution_count": 5,
   "metadata": {},
   "outputs": [
    {
     "data": {
      "text/plain": [
       "16"
      ]
     },
     "execution_count": 5,
     "metadata": {},
     "output_type": "execute_result"
    }
   ],
   "source": [
    "# find a list of available files\n",
    "# and print its length\n",
    "list_files = os.listdir(path_dir)\n",
    "len(list_files)"
   ]
  },
  {
   "cell_type": "code",
   "execution_count": 6,
   "metadata": {},
   "outputs": [
    {
     "data": {
      "text/plain": [
       "2"
      ]
     },
     "execution_count": 6,
     "metadata": {},
     "output_type": "execute_result"
    }
   ],
   "source": [
    "# ideas to change the length of the list\n",
    "\n",
    "# choose n first elements\n",
    "list_files = list_files[:2]\n",
    "len(list_files)"
   ]
  },
  {
   "cell_type": "code",
   "execution_count": 10,
   "metadata": {},
   "outputs": [
    {
     "name": "stderr",
     "output_type": "stream",
     "text": [
      "c:\\Users\\lab\\.conda\\envs\\napari-env\\lib\\site-packages\\numpy\\core\\numeric.py:2463: FutureWarning: elementwise comparison failed; returning scalar instead, but in the future will perform elementwise comparison\n",
      "  return bool(asarray(a1 == a2).all())\n",
      "C:\\Users\\lab\\AppData\\Local\\Temp\\ipykernel_20308\\2116522018.py:25: UserWarning: D:\\data_analysis\\2022_Sahana\\masks\\092622_ring_PDMSAp_10MCol_647-Act_561-Pax_488-Plak_DAPI_001_mask.png is a low contrast image\n",
      "  imsave(mask_path,mask)\n",
      "C:\\Users\\lab\\AppData\\Local\\Temp\\ipykernel_20308\\2116522018.py:25: UserWarning: D:\\data_analysis\\2022_Sahana\\masks\\092622_ring_PDMSAp_10MCol_647-Act_561-Pax_488-Plak_DAPI_001_mask.png is a low contrast image\n",
      "  imsave(mask_path,mask)\n",
      "c:\\Users\\lab\\.conda\\envs\\napari-env\\lib\\site-packages\\numpy\\core\\numeric.py:2463: FutureWarning: elementwise comparison failed; returning scalar instead, but in the future will perform elementwise comparison\n",
      "  return bool(asarray(a1 == a2).all())\n"
     ]
    }
   ],
   "source": [
    "# loop over all files found in the loop\n",
    "\n",
    "for im_name in list_files:\n",
    "\n",
    "    # create a full pathway \n",
    "    path_im = os.path.join(path_dir,im_name)\n",
    "\n",
    "    # open image\n",
    "    im = nd2.imread(path_im)\n",
    "\n",
    "    # create a maximum projection\n",
    "    actin_max = np.max(im[:,0,:,:],axis=0)\n",
    "\n",
    "    # create a viewer to draw shapes\n",
    "    viewer = napari.Viewer()\n",
    "    \n",
    "    viewer.add_image(im[:,0,:,:],colormap='magenta',blending='additive')\n",
    "    viewer.add_image(im[:,1,:,:],colormap='red',blending='additive')\n",
    "    viewer.add_image(im[:,2,:,:],colormap='green',blending='additive')\n",
    "    viewer.add_image(im[:,3,:,:],colormap='blue',blending='additive')\n",
    "    viewer.add_image(actin_max,blending='additive')\n",
    "    viewer.add_shapes()\n",
    "\n",
    "    # add saving button to napari\n",
    "    save_data = magicgui(save_shapes_and_mask, call_button='Save Data')\n",
    "    viewer.window.add_dock_widget(save_data,area='left')\n",
    "\n",
    "    # we will wait for the user to draw shapes here\n",
    "    viewer.show(block=True)\n",
    "\n",
    "\n",
    "    "
   ]
  },
  {
   "cell_type": "code",
   "execution_count": null,
   "metadata": {},
   "outputs": [],
   "source": []
  }
 ],
 "metadata": {
  "kernelspec": {
   "display_name": "Python 3 (ipykernel)",
   "language": "python",
   "name": "python3"
  },
  "language_info": {
   "codemirror_mode": {
    "name": "ipython",
    "version": 3
   },
   "file_extension": ".py",
   "mimetype": "text/x-python",
   "name": "python",
   "nbconvert_exporter": "python",
   "pygments_lexer": "ipython3",
   "version": "3.9.13"
  },
  "vscode": {
   "interpreter": {
    "hash": "850c40123f56a6a81eac0cf1a4fa0b8eb9afb778da43d1733bc64827a43fb21d"
   }
  }
 },
 "nbformat": 4,
 "nbformat_minor": 2
}
